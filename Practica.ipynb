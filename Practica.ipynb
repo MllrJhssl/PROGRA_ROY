{
  "nbformat": 4,
  "nbformat_minor": 0,
  "metadata": {
    "colab": {
      "name": "Practica.ipynb",
      "provenance": [],
      "collapsed_sections": [],
      "include_colab_link": true
    },
    "kernelspec": {
      "name": "python3",
      "display_name": "Python 3"
    }
  },
  "cells": [
    {
      "cell_type": "markdown",
      "metadata": {
        "id": "view-in-github",
        "colab_type": "text"
      },
      "source": [
        "<a href=\"https://colab.research.google.com/github/MllrJhssl/PROGRA_ROY/blob/master/Practica.ipynb\" target=\"_parent\"><img src=\"https://colab.research.google.com/assets/colab-badge.svg\" alt=\"Open In Colab\"/></a>"
      ]
    },
    {
      "cell_type": "markdown",
      "metadata": {
        "id": "XVj8RvlXW-FT",
        "colab_type": "text"
      },
      "source": [
        "## Evaluación 1"
      ]
    },
    {
      "cell_type": "markdown",
      "metadata": {
        "id": "wNxBYdZrW3GZ",
        "colab_type": "text"
      },
      "source": [
        "**Ejercicio 1:**\n",
        "\n",
        "%%latex\n",
        "\\begin{eqnarray}\n",
        "\\frac{2^3+10/5}{15}\n",
        "\\end{eqnarray}\n"
      ]
    },
    {
      "cell_type": "code",
      "metadata": {
        "id": "wMXxlZ-nm2uv",
        "colab_type": "code",
        "colab": {}
      },
      "source": [
        "a = 2^3\n",
        "b = 10/5\n",
        "c = 15 "
      ],
      "execution_count": 0,
      "outputs": []
    },
    {
      "cell_type": "code",
      "metadata": {
        "id": "WDRmvGM2nkT5",
        "colab_type": "code",
        "colab": {
          "base_uri": "https://localhost:8080/",
          "height": 34
        },
        "outputId": "8e750458-0b49-418b-ec18-01f50e26e9bf"
      },
      "source": [
        "(a+b)/c"
      ],
      "execution_count": 2,
      "outputs": [
        {
          "output_type": "execute_result",
          "data": {
            "text/plain": [
              "0.2"
            ]
          },
          "metadata": {
            "tags": []
          },
          "execution_count": 2
        }
      ]
    },
    {
      "cell_type": "markdown",
      "metadata": {
        "id": "tChFbTDTXDRs",
        "colab_type": "text"
      },
      "source": [
        "**Ejercicio 2:**\n",
        "\n",
        "Revertir la palabra 'Hello world'."
      ]
    },
    {
      "cell_type": "code",
      "metadata": {
        "id": "4MSoWN18nr2a",
        "colab_type": "code",
        "colab": {
          "base_uri": "https://localhost:8080/",
          "height": 34
        },
        "outputId": "746df1ed-5c5f-4054-e52d-fdfeb08d747f"
      },
      "source": [
        "'Hello world'"
      ],
      "execution_count": 56,
      "outputs": [
        {
          "output_type": "execute_result",
          "data": {
            "text/plain": [
              "'Hello world'"
            ]
          },
          "metadata": {
            "tags": []
          },
          "execution_count": 56
        }
      ]
    },
    {
      "cell_type": "code",
      "metadata": {
        "id": "FWtR4QiFwy1U",
        "colab_type": "code",
        "colab": {
          "base_uri": "https://localhost:8080/",
          "height": 34
        },
        "outputId": "16a6debc-af60-4190-b1b1-52a7d0320380"
      },
      "source": [
        "(\"Hello world\")[::-1]"
      ],
      "execution_count": 58,
      "outputs": [
        {
          "output_type": "execute_result",
          "data": {
            "text/plain": [
              "'dlrow olleH'"
            ]
          },
          "metadata": {
            "tags": []
          },
          "execution_count": 58
        }
      ]
    },
    {
      "cell_type": "markdown",
      "metadata": {
        "id": "pJQ3T7giXK6n",
        "colab_type": "text"
      },
      "source": [
        "**Ejercicio 3:**\n",
        "\n",
        "Cree la siguiente lista [0,0,0] de 2 formas distintas."
      ]
    },
    {
      "cell_type": "code",
      "metadata": {
        "id": "XcnVBBK_o7FA",
        "colab_type": "code",
        "colab": {}
      },
      "source": [
        "joker = '0,0,0'\n",
        "lista = joker.split()"
      ],
      "execution_count": 0,
      "outputs": []
    },
    {
      "cell_type": "code",
      "metadata": {
        "id": "Jt4djdFtpqNw",
        "colab_type": "code",
        "colab": {
          "base_uri": "https://localhost:8080/",
          "height": 34
        },
        "outputId": "36a5de36-008a-4967-805c-e2a9761c80b6"
      },
      "source": [
        "lista "
      ],
      "execution_count": 19,
      "outputs": [
        {
          "output_type": "execute_result",
          "data": {
            "text/plain": [
              "['0.0.0']"
            ]
          },
          "metadata": {
            "tags": []
          },
          "execution_count": 19
        }
      ]
    },
    {
      "cell_type": "markdown",
      "metadata": {
        "id": "yUhIGt1MXPJ9",
        "colab_type": "text"
      },
      "source": [
        "**Ejercicio 4:**\n",
        "\n",
        "Cambie la palabra 'hello' por 'goodbye'"
      ]
    },
    {
      "cell_type": "code",
      "metadata": {
        "id": "5KOufWplXKbL",
        "colab_type": "code",
        "colab": {}
      },
      "source": [
        "lista = [1, 2, [3, 4, ('hello')]]"
      ],
      "execution_count": 0,
      "outputs": []
    },
    {
      "cell_type": "code",
      "metadata": {
        "id": "A1sqi3KjpEdp",
        "colab_type": "code",
        "colab": {
          "base_uri": "https://localhost:8080/",
          "height": 34
        },
        "outputId": "a1b4b7b4-7d37-45b4-fca9-e114739c9f73"
      },
      "source": [
        "lista [2][2] "
      ],
      "execution_count": 52,
      "outputs": [
        {
          "output_type": "execute_result",
          "data": {
            "text/plain": [
              "'goodbye'"
            ]
          },
          "metadata": {
            "tags": []
          },
          "execution_count": 52
        }
      ]
    },
    {
      "cell_type": "code",
      "metadata": {
        "id": "eFu5uCDSrCtB",
        "colab_type": "code",
        "colab": {
          "base_uri": "https://localhost:8080/",
          "height": 34
        },
        "outputId": "1c80f791-2b8c-4fb6-972c-e8c2699576ff"
      },
      "source": [
        ""
      ],
      "execution_count": 29,
      "outputs": [
        {
          "output_type": "execute_result",
          "data": {
            "text/plain": [
              "[1, 2, [3, 4, 'goodbye']]"
            ]
          },
          "metadata": {
            "tags": []
          },
          "execution_count": 29
        }
      ]
    },
    {
      "cell_type": "markdown",
      "metadata": {
        "id": "G5gvlXj7XkB4",
        "colab_type": "text"
      },
      "source": [
        "**Ejercicio 5:**\n",
        "\n",
        "Obtenga la palabra 'hello' de los siguiente ejemplos"
      ]
    },
    {
      "cell_type": "code",
      "metadata": {
        "id": "7LZqtfpzXJ3e",
        "colab_type": "code",
        "colab": {}
      },
      "source": [
        "d1 = {'simple_key':'hello'}"
      ],
      "execution_count": 0,
      "outputs": []
    },
    {
      "cell_type": "code",
      "metadata": {
        "id": "H_5yg6IfsPVB",
        "colab_type": "code",
        "colab": {
          "base_uri": "https://localhost:8080/",
          "height": 34
        },
        "outputId": "857afc8e-bbff-4a76-d276-3343a231a0f6"
      },
      "source": [
        "d1 ['simple_key']"
      ],
      "execution_count": 43,
      "outputs": [
        {
          "output_type": "execute_result",
          "data": {
            "text/plain": [
              "'hello'"
            ]
          },
          "metadata": {
            "tags": []
          },
          "execution_count": 43
        }
      ]
    },
    {
      "cell_type": "code",
      "metadata": {
        "id": "0e7JZVDHXtup",
        "colab_type": "code",
        "colab": {}
      },
      "source": [
        "d2 = {'k1':{'k2':'hello'}}"
      ],
      "execution_count": 0,
      "outputs": []
    },
    {
      "cell_type": "code",
      "metadata": {
        "id": "Ixo4g27uuezZ",
        "colab_type": "code",
        "colab": {
          "base_uri": "https://localhost:8080/",
          "height": 34
        },
        "outputId": "2e4ae677-87c7-41d0-8832-974509de032d"
      },
      "source": [
        "d2 ['k1']['k2']"
      ],
      "execution_count": 47,
      "outputs": [
        {
          "output_type": "execute_result",
          "data": {
            "text/plain": [
              "'hello'"
            ]
          },
          "metadata": {
            "tags": []
          },
          "execution_count": 47
        }
      ]
    },
    {
      "cell_type": "code",
      "metadata": {
        "id": "iIRA-K9kZFxw",
        "colab_type": "code",
        "colab": {}
      },
      "source": [
        "estacion = {\n",
        "    \"cate\": \"CO\",\n",
        "    \"cod\": \"105062\",\n",
        "    \"cod_old\": \"000349\",\n",
        "    \"estado\": \"DIFERIDO\",\n",
        "    \"ico\": \"M\",\n",
        "    \"lat\": -5.67175,\n",
        "    \"lon\": -78.89767,\n",
        "    \"nom\": \"hello\"\n",
        "}"
      ],
      "execution_count": 0,
      "outputs": []
    },
    {
      "cell_type": "code",
      "metadata": {
        "id": "1WKKF-QftcbP",
        "colab_type": "code",
        "colab": {
          "base_uri": "https://localhost:8080/",
          "height": 34
        },
        "outputId": "a1311b67-2d0b-4b85-abc5-991ad63535ef"
      },
      "source": [
        "estacion [\"nom\"]"
      ],
      "execution_count": 51,
      "outputs": [
        {
          "output_type": "execute_result",
          "data": {
            "text/plain": [
              "'hello'"
            ]
          },
          "metadata": {
            "tags": []
          },
          "execution_count": 51
        }
      ]
    },
    {
      "cell_type": "markdown",
      "metadata": {
        "id": "VWq1nlZTXzDJ",
        "colab_type": "text"
      },
      "source": [
        "**Ejercicio 6:**\n",
        "\n",
        "¿Cuantos números por encima de 20 existen en la siguiente lista. Resuelvalo usando for."
      ]
    },
    {
      "cell_type": "code",
      "metadata": {
        "id": "HrFRXOsyXx-y",
        "colab_type": "code",
        "colab": {}
      },
      "source": [
        "lista = [10, 40, 60, 70, 80]"
      ],
      "execution_count": 0,
      "outputs": []
    },
    {
      "cell_type": "code",
      "metadata": {
        "id": "MTN_EuIYty_t",
        "colab_type": "code",
        "colab": {}
      },
      "source": [
        ""
      ],
      "execution_count": 0,
      "outputs": []
    },
    {
      "cell_type": "markdown",
      "metadata": {
        "id": "bJADk5f6YAZ7",
        "colab_type": "text"
      },
      "source": [
        "**Ejercicio 7:**\n",
        "\n",
        "Crear un programa que mencione si un número es positivo, negativo o cero."
      ]
    },
    {
      "cell_type": "code",
      "metadata": {
        "id": "NuVNDFnRX_97",
        "colab_type": "code",
        "colab": {}
      },
      "source": [
        "num = [0, -2, 4, 5, 6]"
      ],
      "execution_count": 0,
      "outputs": []
    },
    {
      "cell_type": "code",
      "metadata": {
        "id": "0PR7L4XUxqSK",
        "colab_type": "code",
        "colab": {
          "base_uri": "https://localhost:8080/",
          "height": 102
        },
        "outputId": "a15316c1-cbee-425a-cf8d-c6b342adbd08"
      },
      "source": [
        "for n in num:\n",
        "  if n >=0:\n",
        "    print('ES UN NUMERO POSITIVO')\n",
        "  else:\n",
        "    print('ES UN NUMERO NEGATIVO')\n",
        "  "
      ],
      "execution_count": 76,
      "outputs": [
        {
          "output_type": "stream",
          "text": [
            "ES UN NUMERO POSITIVO\n",
            "ES UN NUMERO NEGATIVO\n",
            "ES UN NUMERO POSITIVO\n",
            "ES UN NUMERO POSITIVO\n",
            "ES UN NUMERO POSITIVO\n"
          ],
          "name": "stdout"
        }
      ]
    },
    {
      "cell_type": "markdown",
      "metadata": {
        "id": "q7pw8cS8YNzR",
        "colab_type": "text"
      },
      "source": [
        "**Ejercicio 8:**\n",
        "\n",
        "Crear un programa al que se le ingrese grados Kelvin y devuelva Farenheit y Celcius."
      ]
    }
  ]
}